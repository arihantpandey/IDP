import numpy as np
import matplotlib.pyplot as plt

# LRMT
L = [0.00436056,1.81982]
R = [0.00738239,1.78796]
M = [-0.00716486,1.80366]
T = [-0.191338,1.78619]


p = np.array([L, R, M, T])
p1 = p.transpose(1,0)
x = p1[0]
y = p1[1]

plt.plot([-0.008, -0.008], [min(y)-0.05, min(y)+0.25], 'c')
plt.plot([0.008, 0.008], [min(y)-0.05, min(y)+0.25], 'c')
plt.xlim([-0.15, 0.15])
plt.ylim([min(y)-0.05, min(y)+0.25])
plt.scatter(x, y)
plt.show()
